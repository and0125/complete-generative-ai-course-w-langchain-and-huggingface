{
 "cells": [
  {
   "cell_type": "code",
   "execution_count": null,
   "id": "1faeda31",
   "metadata": {},
   "outputs": [],
   "source": [
    "import os \n",
    "from dotenv import load_dotenv\n",
    "\n",
    "result = load_dotenv(\"./.env\")\n",
    "print(result)"
   ]
  },
  {
   "cell_type": "code",
   "execution_count": null,
   "id": "7887f094",
   "metadata": {},
   "outputs": [],
   "source": [
    "api_key = os.getenv(\"VOYAGE_API_KEY\")\n",
    "\n",
    "if not api_key:\n",
    "    print(\"ERROR: VOYAGE_API_KEY not found in environment variables\")\n",
    "    print(\"Please check your .env file\")\n",
    "else:\n",
    "    print(\"✓ API key loaded successfully\")"
   ]
  },
  {
   "cell_type": "code",
   "execution_count": null,
   "id": "7e54382b",
   "metadata": {},
   "outputs": [],
   "source": [
    "os.environ[\"VOYAGE_API_KEY\"] = os.getenv(\"VOYAGE_API_KEY\")"
   ]
  },
  {
   "cell_type": "code",
   "execution_count": null,
   "id": "286454a4",
   "metadata": {},
   "outputs": [],
   "source": [
    "print(os.getenv(\"VOYAGE_API_KEY\"))"
   ]
  },
  {
   "cell_type": "code",
   "execution_count": 1,
   "id": "348e2218",
   "metadata": {},
   "outputs": [
    {
     "name": "stdout",
     "output_type": "stream",
     "text": [
      "\n"
     ]
    },
    {
     "ename": "AuthenticationError",
     "evalue": "No API key provided. You can set your API key in code using 'voyageai.api_key = <API-KEY>', or set the environment variable VOYAGE_API_KEY=<API-KEY>). If your API key is stored in a file, you can point the voyageai module at it with 'voyageai.api_key_path = <PATH>', or set the environment variable VOYAGE_API_KEY_PATH=<PATH>. API keys can be generated in Voyage AI's dashboard (https://dash.voyageai.com).",
     "output_type": "error",
     "traceback": [
      "\u001b[31m---------------------------------------------------------------------------\u001b[39m",
      "\u001b[31mAuthenticationError\u001b[39m                       Traceback (most recent call last)",
      "\u001b[36mCell\u001b[39m\u001b[36m \u001b[39m\u001b[32mIn[1]\u001b[39m\u001b[32m, line 7\u001b[39m\n\u001b[32m      5\u001b[39m voyageai.api_key = os.getenv(\u001b[33m\"\u001b[39m\u001b[33mVOYAGE_API_KEY\u001b[39m\u001b[33m\"\u001b[39m, \u001b[33m\"\u001b[39m\u001b[33m\"\u001b[39m)\n\u001b[32m      6\u001b[39m \u001b[38;5;28mprint\u001b[39m(voyageai.api_key)\n\u001b[32m----> \u001b[39m\u001b[32m7\u001b[39m voyageClient = \u001b[43mvoyageai\u001b[49m\u001b[43m.\u001b[49m\u001b[43mClient\u001b[49m\u001b[43m(\u001b[49m\u001b[43m)\u001b[49m\n\u001b[32m      9\u001b[39m texts = [\u001b[33m\"\u001b[39m\u001b[33mquick brown fox jumps over the lazy dog\u001b[39m\u001b[33m\"\u001b[39m,\n\u001b[32m     10\u001b[39m          \u001b[33m\"\u001b[39m\u001b[33mthe quick brown fox jumps over the lazy dog\u001b[39m\u001b[33m\"\u001b[39m]\n\u001b[32m     12\u001b[39m result = voyageClient.embed(texts=texts, model=\u001b[33m\"\u001b[39m\u001b[33mvoyage-3\u001b[39m\u001b[33m\"\u001b[39m, input_type=\u001b[33m\"\u001b[39m\u001b[33mdocument\u001b[39m\u001b[33m\"\u001b[39m)\n",
      "\u001b[36mFile \u001b[39m\u001b[32m~\\AppData\\Roaming\\Python\\Python313\\site-packages\\voyageai\\client.py:33\u001b[39m, in \u001b[36mClient.__init__\u001b[39m\u001b[34m(self, api_key, max_retries, timeout)\u001b[39m\n\u001b[32m     27\u001b[39m \u001b[38;5;28;01mdef\u001b[39;00m\u001b[38;5;250m \u001b[39m\u001b[34m__init__\u001b[39m(\n\u001b[32m     28\u001b[39m     \u001b[38;5;28mself\u001b[39m,\n\u001b[32m     29\u001b[39m     api_key: Optional[\u001b[38;5;28mstr\u001b[39m] = \u001b[38;5;28;01mNone\u001b[39;00m,\n\u001b[32m     30\u001b[39m     max_retries: \u001b[38;5;28mint\u001b[39m = \u001b[32m0\u001b[39m,\n\u001b[32m     31\u001b[39m     timeout: Optional[\u001b[38;5;28mfloat\u001b[39m] = \u001b[38;5;28;01mNone\u001b[39;00m,\n\u001b[32m     32\u001b[39m ) ->\u001b[38;5;28;01mNone\u001b[39;00m:\n\u001b[32m---> \u001b[39m\u001b[32m33\u001b[39m     \u001b[38;5;28;43msuper\u001b[39;49m\u001b[43m(\u001b[49m\u001b[43m)\u001b[49m\u001b[43m.\u001b[49m\u001b[34;43m__init__\u001b[39;49m\u001b[43m(\u001b[49m\u001b[43mapi_key\u001b[49m\u001b[43m,\u001b[49m\u001b[43m \u001b[49m\u001b[43mmax_retries\u001b[49m\u001b[43m,\u001b[49m\u001b[43m \u001b[49m\u001b[43mtimeout\u001b[49m\u001b[43m)\u001b[49m\n\u001b[32m     35\u001b[39m     \u001b[38;5;28mself\u001b[39m.retry_controller = Retrying(\n\u001b[32m     36\u001b[39m         reraise=\u001b[38;5;28;01mTrue\u001b[39;00m,\n\u001b[32m     37\u001b[39m         stop=stop_after_attempt(max_retries),\n\u001b[32m   (...)\u001b[39m\u001b[32m     43\u001b[39m         ),\n\u001b[32m     44\u001b[39m     )\n",
      "\u001b[36mFile \u001b[39m\u001b[32m~\\AppData\\Roaming\\Python\\Python313\\site-packages\\voyageai\\_base.py:29\u001b[39m, in \u001b[36m_BaseClient.__init__\u001b[39m\u001b[34m(self, api_key, max_retries, timeout)\u001b[39m\n\u001b[32m     22\u001b[39m \u001b[38;5;28;01mdef\u001b[39;00m\u001b[38;5;250m \u001b[39m\u001b[34m__init__\u001b[39m(\n\u001b[32m     23\u001b[39m     \u001b[38;5;28mself\u001b[39m,\n\u001b[32m     24\u001b[39m     api_key: Optional[\u001b[38;5;28mstr\u001b[39m] = \u001b[38;5;28;01mNone\u001b[39;00m,\n\u001b[32m     25\u001b[39m     max_retries: \u001b[38;5;28mint\u001b[39m = \u001b[32m0\u001b[39m,\n\u001b[32m     26\u001b[39m     timeout: Optional[\u001b[38;5;28mfloat\u001b[39m] = \u001b[38;5;28;01mNone\u001b[39;00m,\n\u001b[32m     27\u001b[39m ) -> \u001b[38;5;28;01mNone\u001b[39;00m:\n\u001b[32m---> \u001b[39m\u001b[32m29\u001b[39m     \u001b[38;5;28mself\u001b[39m.api_key = api_key \u001b[38;5;129;01mor\u001b[39;00m \u001b[43mdefault_api_key\u001b[49m\u001b[43m(\u001b[49m\u001b[43m)\u001b[49m\n\u001b[32m     31\u001b[39m     \u001b[38;5;28mself\u001b[39m._params = {\n\u001b[32m     32\u001b[39m         \u001b[33m\"\u001b[39m\u001b[33mapi_key\u001b[39m\u001b[33m\"\u001b[39m: \u001b[38;5;28mself\u001b[39m.api_key,\n\u001b[32m     33\u001b[39m         \u001b[33m\"\u001b[39m\u001b[33mrequest_timeout\u001b[39m\u001b[33m\"\u001b[39m: timeout,\n\u001b[32m     34\u001b[39m     }\n",
      "\u001b[36mFile \u001b[39m\u001b[32m~\\AppData\\Roaming\\Python\\Python313\\site-packages\\voyageai\\util.py:80\u001b[39m, in \u001b[36mdefault_api_key\u001b[39m\u001b[34m()\u001b[39m\n\u001b[32m     78\u001b[39m     \u001b[38;5;28;01mreturn\u001b[39;00m api_key\n\u001b[32m     79\u001b[39m \u001b[38;5;28;01melse\u001b[39;00m:\n\u001b[32m---> \u001b[39m\u001b[32m80\u001b[39m     \u001b[38;5;28;01mraise\u001b[39;00m voyageai.error.AuthenticationError(\n\u001b[32m     81\u001b[39m         \u001b[33m\"\u001b[39m\u001b[33mNo API key provided. You can set your API key in code using \u001b[39m\u001b[33m'\u001b[39m\u001b[33mvoyageai.api_key = <API-KEY>\u001b[39m\u001b[33m'\u001b[39m\u001b[33m, \u001b[39m\u001b[33m\"\u001b[39m\n\u001b[32m     82\u001b[39m         \u001b[33m\"\u001b[39m\u001b[33mor set the environment variable VOYAGE_API_KEY=<API-KEY>). If your API key is stored \u001b[39m\u001b[33m\"\u001b[39m\n\u001b[32m     83\u001b[39m         \u001b[33m\"\u001b[39m\u001b[33min a file, you can point the voyageai module at it with \u001b[39m\u001b[33m'\u001b[39m\u001b[33mvoyageai.api_key_path = <PATH>\u001b[39m\u001b[33m'\u001b[39m\u001b[33m, \u001b[39m\u001b[33m\"\u001b[39m\n\u001b[32m     84\u001b[39m         \u001b[33m\"\u001b[39m\u001b[33mor set the environment variable VOYAGE_API_KEY_PATH=<PATH>. \u001b[39m\u001b[33m\"\u001b[39m\n\u001b[32m     85\u001b[39m         \u001b[33m\"\u001b[39m\u001b[33mAPI keys can be generated in Voyage AI\u001b[39m\u001b[33m'\u001b[39m\u001b[33ms dashboard (https://dash.voyageai.com).\u001b[39m\u001b[33m\"\u001b[39m\n\u001b[32m     86\u001b[39m     )\n",
      "\u001b[31mAuthenticationError\u001b[39m: No API key provided. You can set your API key in code using 'voyageai.api_key = <API-KEY>', or set the environment variable VOYAGE_API_KEY=<API-KEY>). If your API key is stored in a file, you can point the voyageai module at it with 'voyageai.api_key_path = <PATH>', or set the environment variable VOYAGE_API_KEY_PATH=<PATH>. API keys can be generated in Voyage AI's dashboard (https://dash.voyageai.com)."
     ]
    }
   ],
   "source": [
    "import os\n",
    "import voyageai\n",
    "\n",
    "# Use VOYAGE_API_KEY (not ANTHROPIC_API_KEY)\n",
    "voyageai.api_key = os.getenv(\"VOYAGE_API_KEY\", \"\")\n",
    "print(voyageai.api_key)\n",
    "voyageClient = voyageai.Client()\n",
    "\n",
    "texts = [\"quick brown fox jumps over the lazy dog\",\n",
    "         \"the quick brown fox jumps over the lazy dog\"]\n",
    "\n",
    "result = voyageClient.embed(texts=texts, model=\"voyage-3\", input_type=\"document\")\n",
    "\n",
    "print(result.embeddings[0])\n",
    "print(result.embeddings[1])"
   ]
  },
  {
   "cell_type": "code",
   "execution_count": null,
   "id": "729220ab",
   "metadata": {},
   "outputs": [],
   "source": []
  }
 ],
 "metadata": {
  "kernelspec": {
   "display_name": "Python 3",
   "language": "python",
   "name": "python3"
  },
  "language_info": {
   "codemirror_mode": {
    "name": "ipython",
    "version": 3
   },
   "file_extension": ".py",
   "mimetype": "text/x-python",
   "name": "python",
   "nbconvert_exporter": "python",
   "pygments_lexer": "ipython3",
   "version": "3.13.2"
  }
 },
 "nbformat": 4,
 "nbformat_minor": 5
}
